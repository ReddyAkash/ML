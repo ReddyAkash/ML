{
 "cells": [
  {
   "cell_type": "code",
   "execution_count": 1,
   "id": "1ca63604",
   "metadata": {},
   "outputs": [
    {
     "name": "stdout",
     "output_type": "stream",
     "text": [
      "   column1  column2\n",
      "0      NaN     10.0\n",
      "1     42.0      NaN\n",
      "2      NaN     25.0\n",
      "3     17.0      NaN\n",
      "4      NaN      NaN\n"
     ]
    }
   ],
   "source": [
    "import pandas as pd\n",
    "import numpy as np\n",
    "\n",
    "# Example DataFrame with multiple columns\n",
    "data = {'column1': ['nk', 42, 'nk', 17, 'nk'],\n",
    "        'column2': [10, 'nk', 25, 'nk', 'nk']}\n",
    "df = pd.DataFrame(data)\n",
    "\n",
    "# Replace \"nk\" with NaN in all columns\n",
    "df.replace('nk', np.nan, inplace=True)\n",
    "\n",
    "print(df)"
   ]
  },
  {
   "cell_type": "code",
   "execution_count": 2,
   "id": "8d4dfb8b",
   "metadata": {},
   "outputs": [
    {
     "name": "stdout",
     "output_type": "stream",
     "text": [
      "Features:\n",
      "   feature1  feature2  feature3  feature4  feature6  feature7  feature8  \\\n",
      "0         1         4         7        10        13        16        19   \n",
      "1         2         5         8        11        14        17        20   \n",
      "2         3         6         9        12        15        18        21   \n",
      "\n",
      "   feature9  feature10  \n",
      "0        22         25  \n",
      "1        23         26  \n",
      "2        24         27  \n",
      "\n",
      "Target:\n",
      "0    A\n",
      "1    B\n",
      "2    C\n",
      "Name: target, dtype: object\n"
     ]
    }
   ],
   "source": [
    "import pandas as pd\n",
    "\n",
    "# Example DataFrame with 10 columns\n",
    "# Replace this with your actual data\n",
    "data = {\n",
    "    'feature1': [1, 2, 3],\n",
    "    'feature2': [4, 5, 6],\n",
    "    'feature3': [7, 8, 9],\n",
    "    'feature4': [10, 11, 12],\n",
    "    'target': ['A', 'B', 'C'],  # Assume this is the 5th column\n",
    "    'feature6': [13, 14, 15],\n",
    "    'feature7': [16, 17, 18],\n",
    "    'feature8': [19, 20, 21],\n",
    "    'feature9': [22, 23, 24],\n",
    "    'feature10': [25, 26, 27]\n",
    "}\n",
    "\n",
    "df = pd.DataFrame(data)\n",
    "\n",
    "# Separate features (exclude the target column)\n",
    "features = df.drop(columns=['target'])\n",
    "\n",
    "# Separate target (only the target column)\n",
    "target = df['target']\n",
    "\n",
    "print(\"Features:\")\n",
    "print(features)\n",
    "print(\"\\nTarget:\")\n",
    "print(target)\n"
   ]
  },
  {
   "cell_type": "code",
   "execution_count": null,
   "id": "e271b7c2",
   "metadata": {},
   "outputs": [],
   "source": []
  }
 ],
 "metadata": {
  "kernelspec": {
   "display_name": "Python 3 (ipykernel)",
   "language": "python",
   "name": "python3"
  },
  "language_info": {
   "codemirror_mode": {
    "name": "ipython",
    "version": 3
   },
   "file_extension": ".py",
   "mimetype": "text/x-python",
   "name": "python",
   "nbconvert_exporter": "python",
   "pygments_lexer": "ipython3",
   "version": "3.7.9"
  }
 },
 "nbformat": 4,
 "nbformat_minor": 5
}
